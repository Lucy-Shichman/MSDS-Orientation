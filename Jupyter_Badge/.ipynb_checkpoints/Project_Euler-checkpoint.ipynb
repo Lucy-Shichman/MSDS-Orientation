{
 "cells": [
  {
   "cell_type": "code",
   "execution_count": 1,
   "id": "8e2a1505-106f-465f-91f8-728c33153173",
   "metadata": {},
   "outputs": [
    {
     "name": "stdout",
     "output_type": "stream",
     "text": [
      "hello world\n"
     ]
    }
   ],
   "source": [
    "print(\"hello world\")"
   ]
  },
  {
   "cell_type": "code",
   "execution_count": 1,
   "id": "c1d81289-9f13-4b66-a415-b652c1e52b9c",
   "metadata": {},
   "outputs": [
    {
     "name": "stdout",
     "output_type": "stream",
     "text": [
      "233168\n"
     ]
    }
   ],
   "source": [
    "# Problem 1\n",
    "x=0\n",
    "for i in range (1,1000):\n",
    "    if i%3==0 or i%5==0:\n",
    "        x+=i\n",
    "print(x)"
   ]
  },
  {
   "cell_type": "code",
   "execution_count": 2,
   "id": "763482a0-0b2f-45c8-84b1-388c7da73448",
   "metadata": {},
   "outputs": [
    {
     "name": "stdout",
     "output_type": "stream",
     "text": [
      "4613732\n"
     ]
    }
   ],
   "source": [
    "sum=0\n",
    "fib1=1\n",
    "fib2=1\n",
    "while fib1+fib2<4000000:\n",
    "    fib_next=fib1+fib2\n",
    "    fib1=fib2\n",
    "    fib2=fib_next\n",
    "\n",
    "    if fib2 % 2==0:\n",
    "         sum+= fib2\n",
    "print(sum)"
   ]
  },
  {
   "cell_type": "code",
   "execution_count": 3,
   "id": "2df8f6d8-d381-4a27-8222-49d0028ef884",
   "metadata": {},
   "outputs": [
    {
     "name": "stdout",
     "output_type": "stream",
     "text": [
      "6857.0\n"
     ]
    }
   ],
   "source": [
    "# Problem 3\n",
    "target=600851475143\n",
    "factor=2\n",
    "for x in range(2,target):\n",
    "    if factor >= target:\n",
    "        break\n",
    "    elif target % factor == 0: \n",
    "        target = target / factor\n",
    "    else:\n",
    "        factor = factor + 1\n",
    "print (target)"
   ]
  },
  {
   "cell_type": "code",
   "execution_count": null,
   "id": "9d0f8111-7827-4a2d-baeb-44ffb1819383",
   "metadata": {},
   "outputs": [],
   "source": []
  }
 ],
 "metadata": {
  "kernelspec": {
   "display_name": "Python 3 (ipykernel)",
   "language": "python",
   "name": "python3"
  },
  "language_info": {
   "codemirror_mode": {
    "name": "ipython",
    "version": 3
   },
   "file_extension": ".py",
   "mimetype": "text/x-python",
   "name": "python",
   "nbconvert_exporter": "python",
   "pygments_lexer": "ipython3",
   "version": "3.12.3"
  }
 },
 "nbformat": 4,
 "nbformat_minor": 5
}
